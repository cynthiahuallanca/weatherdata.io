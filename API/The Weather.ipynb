{
 "cells": [
  {
   "cell_type": "markdown",
   "metadata": {},
   "source": [
    "# WeatherPy\n",
    "----\n",
    "\n",
    "### Analysis\n",
    "* As expected, the weather becomes significantly warmer as one approaches the equator (0 Deg. Latitude). More interestingly, however, is the fact that the southern hemisphere tends to be warmer this time of year than the northern hemisphere. This may be due to the tilt of the earth.\n",
    "* There is no strong relationship between latitude and cloudiness. However, it is interesting to see that a strong band of cities sits at 0, 80, and 100% cloudiness.\n",
    "* There is no strong relationship between latitude and wind speed. However, in northern hemispheres there is a flurry of cities with over 20 mph of wind.\n"
   ]
  },
  {
   "cell_type": "code",
   "execution_count": 1,
   "metadata": {
    "scrolled": true
   },
   "outputs": [
    {
     "ename": "ModuleNotFoundError",
     "evalue": "No module named 'config'",
     "output_type": "error",
     "traceback": [
      "\u001b[1;31m---------------------------------------------------------------------------\u001b[0m",
      "\u001b[1;31mModuleNotFoundError\u001b[0m                       Traceback (most recent call last)",
      "\u001b[1;32m<ipython-input-1-a0728295dc50>\u001b[0m in \u001b[0;36m<module>\u001b[1;34m\u001b[0m\n\u001b[0;32m      7\u001b[0m \u001b[1;33m\u001b[0m\u001b[0m\n\u001b[0;32m      8\u001b[0m \u001b[1;31m# Import API key\u001b[0m\u001b[1;33m\u001b[0m\u001b[1;33m\u001b[0m\u001b[1;33m\u001b[0m\u001b[0m\n\u001b[1;32m----> 9\u001b[1;33m \u001b[1;32mfrom\u001b[0m \u001b[0mconfig\u001b[0m \u001b[1;32mimport\u001b[0m \u001b[0mapi_key\u001b[0m\u001b[1;33m\u001b[0m\u001b[1;33m\u001b[0m\u001b[0m\n\u001b[0m\u001b[0;32m     10\u001b[0m \u001b[1;33m\u001b[0m\u001b[0m\n\u001b[0;32m     11\u001b[0m \u001b[1;31m# Incorporated citipy to determine city based on latitude and longitude\u001b[0m\u001b[1;33m\u001b[0m\u001b[1;33m\u001b[0m\u001b[1;33m\u001b[0m\u001b[0m\n",
      "\u001b[1;31mModuleNotFoundError\u001b[0m: No module named 'config'"
     ]
    }
   ],
   "source": [
    "# Dependencies and Setup\n",
    "import matplotlib.pyplot as plt\n",
    "import pandas as pd\n",
    "import numpy as np\n",
    "import requests\n",
    "import time\n",
    "\n",
    "# Import API key\n",
    "from config import api_key\n",
    "\n",
    "# Incorporated citipy to determine city based on latitude and longitude\n",
    "from citipy import citipy\n",
    "\n",
    "# Output File (CSV)\n",
    "output_data_file = \"output_data/cities.csv\"\n",
    "\n",
    "# Range of latitudes and longitudes\n",
    "lat_range = (-90, 90)\n",
    "lng_range = (-180, 180)"
   ]
  },
  {
   "cell_type": "markdown",
   "metadata": {},
   "source": [
    "## Generate Cities List"
   ]
  },
  {
   "cell_type": "code",
   "execution_count": null,
   "metadata": {},
   "outputs": [],
   "source": [
    "# List for holding lat_lngs and cities\n",
    "lat_lngs = []\n",
    "cities = []\n",
    "\n",
    "# Create a set of random lat and lng combinations\n",
    "lats = np.random.uniform(low=-90.000, high=90.000, size=1500)\n",
    "lngs = np.random.uniform(low=-180.000, high=180.000, size=1500)\n",
    "lat_lngs = zip(lats, lngs)\n",
    "\n",
    "# Identify nearest city for each lat, lng combination\n",
    "for lat_lng in lat_lngs:\n",
    "    city = citipy.nearest_city(lat_lng[0], lat_lng[1]).city_name\n",
    "    \n",
    "    # If the city is unique, then add it to a our cities list\n",
    "    if city not in cities:\n",
    "        cities.append(city)\n",
    "\n",
    "# Print the city count to confirm sufficient count\n",
    "len(cities)"
   ]
  },
  {
   "cell_type": "code",
   "execution_count": null,
   "metadata": {},
   "outputs": [],
   "source": [
    "cities_df = pd. DataFrame(cities)\n",
    "df = cities_df.rename(columns={0:\"Name\"})\n",
    "df.head()"
   ]
  },
  {
   "cell_type": "markdown",
   "metadata": {},
   "source": [
    "### Perform API Calls\n",
    "* Weather check on each city using a series of successive API calls.\n",
    "* Log printed of each city as it's being processed.\n"
   ]
  },
  {
   "cell_type": "code",
   "execution_count": null,
   "metadata": {
    "scrolled": false
   },
   "outputs": [],
   "source": [
    "print(\"Beginning Data Retrieval\")\n",
    "print(\"-----------------------------\")\n",
    "\n",
    "# Iterate through the rows of the Data Frame, taking the name as the \"Key\" and searching the weather of each one. \n",
    "for index, row in df.iterrows():\n",
    "    base_url = \"http://api.openweathermap.org/data/2.5/weather?\"\n",
    "    \n",
    "    # To obtain results in \"imperial\" system. If metric system wanted, then change units to \"metric\"\n",
    "    units = \"imperial\"\n",
    "    query_url = f\"{base_url}appid={api_key}&units={units}&q=\"\n",
    "    city = row['Name']\n",
    "    response = requests.get(query_url + city).json()\n",
    "    \n",
    "    # Complete the Data Frame with columns wanted. If there's any city whit lacking information, pass to the next one \\\n",
    "    # so our table has no empty cell\n",
    "    \n",
    "    try:    \n",
    "         \n",
    "        df.loc[index,\"Cloudiness\"] = response[\"clouds\"][\"all\"]\n",
    "        df.loc[index,\"Country\"] = response[\"sys\"][\"country\"]\n",
    "        df.loc[index,\"Date\"] = response[\"dt\"]\n",
    "        df.loc[index,\"Humidity\"] = response[\"main\"][\"humidity\"]\n",
    "        df.loc[index, \"Lat\"] = response['coord']['lat']\n",
    "        df.loc[index,\"Lng\"] = response[\"coord\"][\"lon\"]\n",
    "        df.loc[index,\"Max Temp\"] = response[\"main\"][\"temp_max\"]\n",
    "        df.loc[index,\"Wind Speed\"] = response[\"wind\"][\"speed\"]\n",
    "        print(f\"Processing Record {index} of Set 1 | {city}\")    \n",
    "            \n",
    "    except (KeyError, IndexError):\n",
    "        pass\n",
    "        print(\"City not found. Skipping...\")\n",
    "        \n",
    "\n"
   ]
  },
  {
   "cell_type": "markdown",
   "metadata": {},
   "source": [
    "### Convert Raw Data to DataFrame"
   ]
  },
  {
   "cell_type": "code",
   "execution_count": null,
   "metadata": {},
   "outputs": [],
   "source": [
    "# Summarize columns object count \n",
    "df.count()"
   ]
  },
  {
   "cell_type": "code",
   "execution_count": null,
   "metadata": {
    "scrolled": true
   },
   "outputs": [],
   "source": [
    "# Leave behing (dropping) all rows that has any of the columns \n",
    "df = df.dropna()\n",
    "\n",
    "# Poer al ultimo!!!!!!!!!!!!!!!!!!!!!!!!!!!!Tranform column \"Date\" from exponential to integer \n",
    "df[\"Date\"] = df[\"Date\"].astype(int)\n",
    "\n",
    "# Showing complete DataFrame\n",
    "df.head()"
   ]
  },
  {
   "cell_type": "code",
   "execution_count": null,
   "metadata": {},
   "outputs": [],
   "source": [
    "# Transform \"Date\" column from Unix into DayTime\n",
    "from datetime import datetime\n",
    "df['Date'] = pd.to_datetime(df['Date'],unit='s')\n",
    "\n",
    "df.head()"
   ]
  },
  {
   "cell_type": "code",
   "execution_count": null,
   "metadata": {},
   "outputs": [],
   "source": [
    "# Save Data into a csv\n",
    "df.to_csv(\"WeatherPy.csv\")"
   ]
  },
  {
   "cell_type": "markdown",
   "metadata": {},
   "source": [
    "### Plotting the Data"
   ]
  },
  {
   "cell_type": "markdown",
   "metadata": {},
   "source": [
    "#### Latitude vs. Temperature Plot"
   ]
  },
  {
   "cell_type": "code",
   "execution_count": null,
   "metadata": {},
   "outputs": [],
   "source": [
    "##Scarett plot Latitude vs. Max Temp \n",
    "\n",
    "# Obtain data form the DataFrame to x and y axis \n",
    "x_axis = df[\"Lat\"]\n",
    "y_axis = df[\"Max Temp\"]\n",
    "\n",
    "# Plot title and labels \n",
    "plt.title(\"City Latitude vs. Max. Temperature (Feb 2019)\")\n",
    "plt.xlabel(\"Latitude\")\n",
    "plt.ylabel(\"Max Temperature (F)\")\n",
    "\n",
    "# Limit the y axis \n",
    "plt.ylim(0, 100)\n",
    "\n",
    "# Show Grid\n",
    "plt.grid()\n",
    "\n",
    "# Configure the plot\n",
    "plt.scatter(x_axis, y_axis, marker=\"o\", color=\"steelblue\",edgecolors=\"black\")\n",
    "\n",
    "# Save the figure into png\n",
    "plt.savefig(\"Latitude vs. Temperature Plot.png\")\n",
    "\n",
    "#Show plot \n",
    "plt.show()"
   ]
  },
  {
   "cell_type": "markdown",
   "metadata": {},
   "source": [
    "#### Latitude vs. Humidity Plot"
   ]
  },
  {
   "cell_type": "code",
   "execution_count": null,
   "metadata": {},
   "outputs": [],
   "source": [
    "## Scarett plot Latitude vs. Humidity\n",
    "\n",
    "# Obtain data form the DataFrame to x and y axis \n",
    "x_axis = df[\"Lat\"]\n",
    "y_axis = df[\"Humidity\"]\n",
    "\n",
    "# Plot title and labels \n",
    "plt.title(\"City Latitude vs. Humidity (Feb 2019)\")\n",
    "plt.xlabel(\"Latitude\")\n",
    "plt.ylabel(\"Humidity (%)\")\n",
    "\n",
    "# Limit the y axis\n",
    "plt.ylim(0, 100)\n",
    "\n",
    "# Show Grid\n",
    "plt.grid()\n",
    "\n",
    "# Configure the plot\n",
    "plt.scatter(x_axis, y_axis, marker=\"o\", color=\"steelblue\", edgecolors=\"black\")\n",
    "\n",
    "# Save the figure into png\n",
    "plt.savefig(\"Latitude vs. Humidity Plot.png\")\n",
    "\n",
    "#Show plot \n",
    "plt.show()"
   ]
  },
  {
   "cell_type": "code",
   "execution_count": null,
   "metadata": {},
   "outputs": [],
   "source": [
    "#### Latitude vs. Cloudiness Plot"
   ]
  },
  {
   "cell_type": "code",
   "execution_count": null,
   "metadata": {},
   "outputs": [],
   "source": [
    "## Scarett plot Latitude vs. Cloudiness Plot\n",
    "\n",
    "# Obtain data form the DataFrame to x and y axis \n",
    "x_axis = df[\"Lat\"]\n",
    "y_axis = df[\"Cloudiness\"]\n",
    "\n",
    "# Plot title and labels \n",
    "plt.title(\"City Latitude vs. Cloudiness (Feb 2019)\")\n",
    "plt.xlabel(\"Latitude\")\n",
    "plt.ylabel(\"Cloudiness (%)\")\n",
    "\n",
    "# Show Grid\n",
    "plt.grid()\n",
    "plt.scatter(x_axis, y_axis, marker=\"o\", color=\"steelblue\", edgecolors=\"black\")\n",
    "\n",
    "# Save the figure into png\n",
    "plt.savefig(\"Latitude vs. Cloudiness Plot.png\")\n",
    "\n",
    "#Show plot \n",
    "plt.show()"
   ]
  },
  {
   "cell_type": "markdown",
   "metadata": {},
   "source": [
    "#### Latitude vs. Wind Speed Plot"
   ]
  },
  {
   "cell_type": "code",
   "execution_count": null,
   "metadata": {},
   "outputs": [],
   "source": [
    "## Scarett plot Latitude vs. Wind Speed Plot\n",
    "\n",
    "# Obtain data form the DataFrame to x and y axis \n",
    "x_axis = df[\"Lat\"]\n",
    "y_axis = df[\"Wind Speed\"]\n",
    "\n",
    "# Plot title and labels \n",
    "plt.title(\"City Latitude vs. Wind Speed (Feb 2018)\")\n",
    "plt.xlabel(\"Latitude\")\n",
    "plt.ylabel(\"Wind Speed (mph)\")\n",
    "\n",
    "# Show Grid\n",
    "plt.grid()\n",
    "plt.scatter(x_axis, y_axis, marker=\"o\", color=\"steelblue\", edgecolors=\"black\")\n",
    "\n",
    "# Save the figure into png\n",
    "plt.savefig(\"Latitude vs. Wind Speed Plot.png\")\n",
    "\n",
    "#Show plot \n",
    "plt.show()"
   ]
  }
 ],
 "metadata": {
  "anaconda-cloud": {},
  "kernelspec": {
   "display_name": "Python 3",
   "language": "python",
   "name": "python3"
  },
  "language_info": {
   "codemirror_mode": {
    "name": "ipython",
    "version": 3
   },
   "file_extension": ".py",
   "mimetype": "text/x-python",
   "name": "python",
   "nbconvert_exporter": "python",
   "pygments_lexer": "ipython3",
   "version": "3.7.1"
  }
 },
 "nbformat": 4,
 "nbformat_minor": 2
}
